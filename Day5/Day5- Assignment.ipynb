{
  "nbformat": 4,
  "nbformat_minor": 0,
  "metadata": {
    "colab": {
      "name": "AssignDay5.ipynb",
      "provenance": [],
      "collapsed_sections": [],
      "authorship_tag": "ABX9TyNaMtevygS2E9UOgMCrqiea",
      "include_colab_link": true
    },
    "kernelspec": {
      "name": "python3",
      "display_name": "Python 3"
    }
  },
  "cells": [
    {
      "cell_type": "markdown",
      "metadata": {
        "id": "view-in-github",
        "colab_type": "text"
      },
      "source": [
        "<a href=\"https://colab.research.google.com/github/robinrohit195/LetsUpgrade-Blockchain/blob/master/Day%205%5CAssignDay5.ipynb\" target=\"_parent\"><img src=\"https://colab.research.google.com/assets/colab-badge.svg\" alt=\"Open In Colab\"/></a>"
      ]
    },
    {
      "cell_type": "code",
      "metadata": {
        "id": "3vDDbjtVyF-X",
        "colab_type": "code",
        "colab": {
          "base_uri": "https://localhost:8080/",
          "height": 102
        },
        "outputId": "d917d952-6748-4b56-b6e3-dd34ff6cae3b"
      },
      "source": [
        "# Data for List 1 Input\n",
        "strOne = input(\"Enter sorted data for List 1 - comma separated: \").split(\",\")\n",
        "listOne = list(map(int,strOne))\n",
        "# Data for List 2 Input\n",
        "strTwo = input(\"Enter sorted data for List2 - comma separated: \").split(\",\")\n",
        "listTwo = list(map(int,strTwo))\n",
        "  \n",
        "# printing original data in List 1\n",
        "print(\"Data in List 1 is  :  : \" + str(listOne)) \n",
        "# printing original data in List 1 \n",
        "print(\"Data in List 2 is  : \" + str(listTwo))\n",
        "\n",
        "sortList = [] \n",
        "i, j = 0, 0\n",
        "  \n",
        "while i < len(listOne) and j < len(listTwo): \n",
        "    if listOne[i] < listTwo[j]: \n",
        "      sortList.append(listOne[i]) \n",
        "      i += 1\n",
        "  \n",
        "    else: \n",
        "      sortList.append(listTwo[j]) \n",
        "      j += 1\n",
        "  \n",
        "# sortList = sortList + listOne[i:] + listTwo[j:] \n",
        "  \n",
        "# printing result \n",
        "print (\"The combined sorted list is : \" + str(sortList))"
      ],
      "execution_count": null,
      "outputs": [
        {
          "output_type": "stream",
          "text": [
            "Enter sorted data for List 1 - comma separated: 324,546,657,787,899\n",
            "Enter sorted data for List2 - comma separated: 233,344,456,676,788,987\n",
            "Data in List 1 is  :  : [324, 546, 657, 787, 899]\n",
            "Data in List 2 is  : [233, 344, 456, 676, 788, 987]\n",
            "The combined sorted list is : [233, 324, 344, 456, 546, 657, 676, 787, 788, 899]\n"
          ],
          "name": "stdout"
        }
      ]
    },
    {
      "cell_type": "code",
      "metadata": {
        "id": "6G9GK64X_nPT",
        "colab_type": "code",
        "colab": {
          "base_uri": "https://localhost:8080/",
          "height": 85
        },
        "outputId": "209ac123-b54d-4d6b-95e0-5e3d61e02fef"
      },
      "source": [
        "# Input \n",
        "strNum = input(\"Enter the list of numbers: \").split(\",\")\n",
        "listNum = list(map(int,strNum))\n",
        "count = 0 \n",
        "#listNum = [0,1,2,10,4,1,0,56,2,0,1,3,0,56,0,4]\n",
        "print(listNum)\n",
        "listCount = len(listNum)\n",
        "for l in range(listCount):\n",
        "    for k in range(l+1,listCount):\n",
        "        if listNum[k] > listNum[l]:\n",
        "            listNum[k] , listNum[l] = listNum[l], listNum[k]\n",
        "            \n",
        "print(\"List after pushing all zeros to end of array:\") \n",
        "print(listNum) "
      ],
      "execution_count": 1,
      "outputs": [
        {
          "output_type": "stream",
          "text": [
            "Enter the list of numbers: 0,1,2,10,4,1,0,56,2,0,1,3,0,56,0,4\n",
            "[0, 1, 2, 10, 4, 1, 0, 56, 2, 0, 1, 3, 0, 56, 0, 4]\n",
            "List after pushing all zeros to end of array:\n",
            "[56, 56, 10, 4, 4, 3, 2, 2, 1, 1, 1, 0, 0, 0, 0, 0]\n"
          ],
          "name": "stdout"
        }
      ]
    }
  ]
}